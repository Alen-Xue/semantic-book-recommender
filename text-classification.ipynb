{
 "cells": [
  {
   "cell_type": "code",
   "execution_count": null,
   "id": "initial_id",
   "metadata": {
    "ExecuteTime": {
     "end_time": "2025-03-09T09:17:16.945505Z",
     "start_time": "2025-03-09T09:17:16.273759Z"
    },
    "collapsed": true
   },
   "outputs": [],
   "source": [
    "import pandas as pd\n",
    "\n",
    "books = pd.read_csv(\"books_cleaned.csv\")"
   ]
  },
  {
   "cell_type": "code",
   "execution_count": null,
   "id": "53bb67ba6f48e91",
   "metadata": {
    "ExecuteTime": {
     "end_time": "2025-03-09T09:17:25.863055Z",
     "start_time": "2025-03-09T09:17:25.727905Z"
    }
   },
   "outputs": [],
   "source": [
    "books[\"categories\"].value_counts().reset_index()"
   ]
  },
  {
   "cell_type": "code",
   "execution_count": null,
   "id": "d92af068c59282ba",
   "metadata": {
    "ExecuteTime": {
     "end_time": "2025-03-09T09:17:57.433793Z",
     "start_time": "2025-03-09T09:17:57.420072Z"
    }
   },
   "outputs": [],
   "source": [
    "books[\"categories\"].value_counts().reset_index().query(\"count > 50\")"
   ]
  },
  {
   "cell_type": "code",
   "execution_count": null,
   "id": "464064d1abd373c7",
   "metadata": {
    "ExecuteTime": {
     "end_time": "2025-03-09T09:18:56.953963Z",
     "start_time": "2025-03-09T09:18:56.595137Z"
    }
   },
   "outputs": [],
   "source": [
    "books[books[\"categories\"] == \"Juvenile Fiction\"]"
   ]
  },
  {
   "cell_type": "code",
   "execution_count": null,
   "id": "3d2dbea25e8b116f",
   "metadata": {
    "ExecuteTime": {
     "end_time": "2025-03-09T09:19:11.192725Z",
     "start_time": "2025-03-09T09:19:11.156219Z"
    }
   },
   "outputs": [],
   "source": [
    "books[books[\"categories\"] == \"Juvenile Nonfiction\"]"
   ]
  },
  {
   "cell_type": "code",
   "execution_count": 8,
   "id": "28b4df3a5bccef3f",
   "metadata": {
    "ExecuteTime": {
     "end_time": "2025-03-09T09:20:23.873791Z",
     "start_time": "2025-03-09T09:20:23.867645Z"
    }
   },
   "outputs": [],
   "source": [
    "category_mapping = {'Fiction' : \"Fiction\",\n",
    " 'Juvenile Fiction': \"Children's Fiction\",\n",
    " 'Biography & Autobiography': \"Nonfiction\",\n",
    " 'History': \"Nonfiction\",\n",
    " 'Literary Criticism': \"Nonfiction\",\n",
    " 'Philosophy': \"Nonfiction\",\n",
    " 'Religion': \"Nonfiction\",\n",
    " 'Comics & Graphic Novels': \"Fiction\",\n",
    " 'Drama': \"Fiction\",\n",
    " 'Juvenile Nonfiction': \"Children's Nonfiction\",\n",
    " 'Science': \"Nonfiction\",\n",
    " 'Poetry': \"Fiction\"}"
   ]
  },
  {
   "cell_type": "code",
   "execution_count": 7,
   "id": "e86aff4d19166fd2",
   "metadata": {
    "ExecuteTime": {
     "end_time": "2025-03-09T09:20:49.360660Z",
     "start_time": "2025-03-09T09:20:49.195650Z"
    }
   },
   "outputs": [],
   "source": [
    "books[\"simple_categories\"] = books[\"categories\"].map(category_mapping)"
   ]
  },
  {
   "cell_type": "code",
   "execution_count": 9,
   "id": "3aa556a79b55025d",
   "metadata": {
    "ExecuteTime": {
     "end_time": "2025-03-09T09:20:58.156876Z",
     "start_time": "2025-03-09T09:20:58.136409Z"
    }
   },
   "outputs": [
    {
     "data": {
      "text/html": [
       "<div>\n",
       "<style scoped>\n",
       "    .dataframe tbody tr th:only-of-type {\n",
       "        vertical-align: middle;\n",
       "    }\n",
       "\n",
       "    .dataframe tbody tr th {\n",
       "        vertical-align: top;\n",
       "    }\n",
       "\n",
       "    .dataframe thead th {\n",
       "        text-align: right;\n",
       "    }\n",
       "</style>\n",
       "<table border=\"1\" class=\"dataframe\">\n",
       "  <thead>\n",
       "    <tr style=\"text-align: right;\">\n",
       "      <th></th>\n",
       "      <th>isbn13</th>\n",
       "      <th>isbn10</th>\n",
       "      <th>title</th>\n",
       "      <th>authors</th>\n",
       "      <th>categories</th>\n",
       "      <th>thumbnail</th>\n",
       "      <th>description</th>\n",
       "      <th>published_year</th>\n",
       "      <th>average_rating</th>\n",
       "      <th>num_pages</th>\n",
       "      <th>ratings_count</th>\n",
       "      <th>title_and_subtitle</th>\n",
       "      <th>tagged_description</th>\n",
       "      <th>simple_categories</th>\n",
       "    </tr>\n",
       "  </thead>\n",
       "  <tbody>\n",
       "    <tr>\n",
       "      <th>0</th>\n",
       "      <td>9780002005883</td>\n",
       "      <td>0002005883</td>\n",
       "      <td>Gilead</td>\n",
       "      <td>Marilynne Robinson</td>\n",
       "      <td>Fiction</td>\n",
       "      <td>http://books.google.com/books/content?id=KQZCP...</td>\n",
       "      <td>A NOVEL THAT READERS and critics have been eag...</td>\n",
       "      <td>2004.0</td>\n",
       "      <td>3.85</td>\n",
       "      <td>247.0</td>\n",
       "      <td>361.0</td>\n",
       "      <td>Gilead</td>\n",
       "      <td>9780002005883 A NOVEL THAT READERS and critics...</td>\n",
       "      <td>Fiction</td>\n",
       "    </tr>\n",
       "    <tr>\n",
       "      <th>1</th>\n",
       "      <td>9780002261982</td>\n",
       "      <td>0002261987</td>\n",
       "      <td>Spider's Web</td>\n",
       "      <td>Charles Osborne;Agatha Christie</td>\n",
       "      <td>Detective and mystery stories</td>\n",
       "      <td>http://books.google.com/books/content?id=gA5GP...</td>\n",
       "      <td>A new 'Christie for Christmas' -- a full-lengt...</td>\n",
       "      <td>2000.0</td>\n",
       "      <td>3.83</td>\n",
       "      <td>241.0</td>\n",
       "      <td>5164.0</td>\n",
       "      <td>Spider's Web: A Novel</td>\n",
       "      <td>9780002261982 A new 'Christie for Christmas' -...</td>\n",
       "      <td>NaN</td>\n",
       "    </tr>\n",
       "    <tr>\n",
       "      <th>2</th>\n",
       "      <td>9780006178736</td>\n",
       "      <td>0006178731</td>\n",
       "      <td>Rage of angels</td>\n",
       "      <td>Sidney Sheldon</td>\n",
       "      <td>Fiction</td>\n",
       "      <td>http://books.google.com/books/content?id=FKo2T...</td>\n",
       "      <td>A memorable, mesmerizing heroine Jennifer -- b...</td>\n",
       "      <td>1993.0</td>\n",
       "      <td>3.93</td>\n",
       "      <td>512.0</td>\n",
       "      <td>29532.0</td>\n",
       "      <td>Rage of angels</td>\n",
       "      <td>9780006178736 A memorable, mesmerizing heroine...</td>\n",
       "      <td>Fiction</td>\n",
       "    </tr>\n",
       "    <tr>\n",
       "      <th>3</th>\n",
       "      <td>9780006280897</td>\n",
       "      <td>0006280897</td>\n",
       "      <td>The Four Loves</td>\n",
       "      <td>Clive Staples Lewis</td>\n",
       "      <td>Christian life</td>\n",
       "      <td>http://books.google.com/books/content?id=XhQ5X...</td>\n",
       "      <td>Lewis' work on the nature of love divides love...</td>\n",
       "      <td>2002.0</td>\n",
       "      <td>4.15</td>\n",
       "      <td>170.0</td>\n",
       "      <td>33684.0</td>\n",
       "      <td>The Four Loves</td>\n",
       "      <td>9780006280897 Lewis' work on the nature of lov...</td>\n",
       "      <td>NaN</td>\n",
       "    </tr>\n",
       "    <tr>\n",
       "      <th>4</th>\n",
       "      <td>9780006280934</td>\n",
       "      <td>0006280935</td>\n",
       "      <td>The Problem of Pain</td>\n",
       "      <td>Clive Staples Lewis</td>\n",
       "      <td>Christian life</td>\n",
       "      <td>http://books.google.com/books/content?id=Kk-uV...</td>\n",
       "      <td>\"In The Problem of Pain, C.S. Lewis, one of th...</td>\n",
       "      <td>2002.0</td>\n",
       "      <td>4.09</td>\n",
       "      <td>176.0</td>\n",
       "      <td>37569.0</td>\n",
       "      <td>The Problem of Pain</td>\n",
       "      <td>9780006280934 \"In The Problem of Pain, C.S. Le...</td>\n",
       "      <td>NaN</td>\n",
       "    </tr>\n",
       "    <tr>\n",
       "      <th>...</th>\n",
       "      <td>...</td>\n",
       "      <td>...</td>\n",
       "      <td>...</td>\n",
       "      <td>...</td>\n",
       "      <td>...</td>\n",
       "      <td>...</td>\n",
       "      <td>...</td>\n",
       "      <td>...</td>\n",
       "      <td>...</td>\n",
       "      <td>...</td>\n",
       "      <td>...</td>\n",
       "      <td>...</td>\n",
       "      <td>...</td>\n",
       "      <td>...</td>\n",
       "    </tr>\n",
       "    <tr>\n",
       "      <th>5192</th>\n",
       "      <td>9788172235222</td>\n",
       "      <td>8172235224</td>\n",
       "      <td>Mistaken Identity</td>\n",
       "      <td>Nayantara Sahgal</td>\n",
       "      <td>Indic fiction (English)</td>\n",
       "      <td>http://books.google.com/books/content?id=q-tKP...</td>\n",
       "      <td>On A Train Journey Home To North India After L...</td>\n",
       "      <td>2003.0</td>\n",
       "      <td>2.93</td>\n",
       "      <td>324.0</td>\n",
       "      <td>0.0</td>\n",
       "      <td>Mistaken Identity</td>\n",
       "      <td>9788172235222 On A Train Journey Home To North...</td>\n",
       "      <td>NaN</td>\n",
       "    </tr>\n",
       "    <tr>\n",
       "      <th>5193</th>\n",
       "      <td>9788173031014</td>\n",
       "      <td>8173031010</td>\n",
       "      <td>Journey to the East</td>\n",
       "      <td>Hermann Hesse</td>\n",
       "      <td>Adventure stories</td>\n",
       "      <td>http://books.google.com/books/content?id=rq6JP...</td>\n",
       "      <td>This book tells the tale of a man who goes on ...</td>\n",
       "      <td>2002.0</td>\n",
       "      <td>3.70</td>\n",
       "      <td>175.0</td>\n",
       "      <td>24.0</td>\n",
       "      <td>Journey to the East</td>\n",
       "      <td>9788173031014 This book tells the tale of a ma...</td>\n",
       "      <td>NaN</td>\n",
       "    </tr>\n",
       "    <tr>\n",
       "      <th>5194</th>\n",
       "      <td>9788179921623</td>\n",
       "      <td>817992162X</td>\n",
       "      <td>The Monk Who Sold His Ferrari: A Fable About F...</td>\n",
       "      <td>Robin Sharma</td>\n",
       "      <td>Health &amp; Fitness</td>\n",
       "      <td>http://books.google.com/books/content?id=c_7mf...</td>\n",
       "      <td>Wisdom to Create a Life of Passion, Purpose, a...</td>\n",
       "      <td>2003.0</td>\n",
       "      <td>3.82</td>\n",
       "      <td>198.0</td>\n",
       "      <td>1568.0</td>\n",
       "      <td>The Monk Who Sold His Ferrari: A Fable About F...</td>\n",
       "      <td>9788179921623 Wisdom to Create a Life of Passi...</td>\n",
       "      <td>NaN</td>\n",
       "    </tr>\n",
       "    <tr>\n",
       "      <th>5195</th>\n",
       "      <td>9788185300535</td>\n",
       "      <td>8185300534</td>\n",
       "      <td>I Am that</td>\n",
       "      <td>Sri Nisargadatta Maharaj;Sudhakar S. Dikshit</td>\n",
       "      <td>Philosophy</td>\n",
       "      <td>http://books.google.com/books/content?id=Fv_JP...</td>\n",
       "      <td>This collection of the timeless teachings of o...</td>\n",
       "      <td>1999.0</td>\n",
       "      <td>4.51</td>\n",
       "      <td>531.0</td>\n",
       "      <td>104.0</td>\n",
       "      <td>I Am that: Talks with Sri Nisargadatta Maharaj</td>\n",
       "      <td>9788185300535 This collection of the timeless ...</td>\n",
       "      <td>Nonfiction</td>\n",
       "    </tr>\n",
       "    <tr>\n",
       "      <th>5196</th>\n",
       "      <td>9789027712059</td>\n",
       "      <td>9027712050</td>\n",
       "      <td>The Berlin Phenomenology</td>\n",
       "      <td>Georg Wilhelm Friedrich Hegel</td>\n",
       "      <td>History</td>\n",
       "      <td>http://books.google.com/books/content?id=Vy7Sk...</td>\n",
       "      <td>Since the three volume edition ofHegel's Philo...</td>\n",
       "      <td>1981.0</td>\n",
       "      <td>0.00</td>\n",
       "      <td>210.0</td>\n",
       "      <td>0.0</td>\n",
       "      <td>The Berlin Phenomenology</td>\n",
       "      <td>9789027712059 Since the three volume edition o...</td>\n",
       "      <td>Nonfiction</td>\n",
       "    </tr>\n",
       "  </tbody>\n",
       "</table>\n",
       "<p>5197 rows × 14 columns</p>\n",
       "</div>"
      ],
      "text/plain": [
       "             isbn13      isbn10  \\\n",
       "0     9780002005883  0002005883   \n",
       "1     9780002261982  0002261987   \n",
       "2     9780006178736  0006178731   \n",
       "3     9780006280897  0006280897   \n",
       "4     9780006280934  0006280935   \n",
       "...             ...         ...   \n",
       "5192  9788172235222  8172235224   \n",
       "5193  9788173031014  8173031010   \n",
       "5194  9788179921623  817992162X   \n",
       "5195  9788185300535  8185300534   \n",
       "5196  9789027712059  9027712050   \n",
       "\n",
       "                                                  title  \\\n",
       "0                                                Gilead   \n",
       "1                                          Spider's Web   \n",
       "2                                        Rage of angels   \n",
       "3                                        The Four Loves   \n",
       "4                                   The Problem of Pain   \n",
       "...                                                 ...   \n",
       "5192                                  Mistaken Identity   \n",
       "5193                                Journey to the East   \n",
       "5194  The Monk Who Sold His Ferrari: A Fable About F...   \n",
       "5195                                          I Am that   \n",
       "5196                           The Berlin Phenomenology   \n",
       "\n",
       "                                           authors  \\\n",
       "0                               Marilynne Robinson   \n",
       "1                  Charles Osborne;Agatha Christie   \n",
       "2                                   Sidney Sheldon   \n",
       "3                              Clive Staples Lewis   \n",
       "4                              Clive Staples Lewis   \n",
       "...                                            ...   \n",
       "5192                              Nayantara Sahgal   \n",
       "5193                                 Hermann Hesse   \n",
       "5194                                  Robin Sharma   \n",
       "5195  Sri Nisargadatta Maharaj;Sudhakar S. Dikshit   \n",
       "5196                 Georg Wilhelm Friedrich Hegel   \n",
       "\n",
       "                         categories  \\\n",
       "0                           Fiction   \n",
       "1     Detective and mystery stories   \n",
       "2                           Fiction   \n",
       "3                    Christian life   \n",
       "4                    Christian life   \n",
       "...                             ...   \n",
       "5192        Indic fiction (English)   \n",
       "5193              Adventure stories   \n",
       "5194               Health & Fitness   \n",
       "5195                     Philosophy   \n",
       "5196                        History   \n",
       "\n",
       "                                              thumbnail  \\\n",
       "0     http://books.google.com/books/content?id=KQZCP...   \n",
       "1     http://books.google.com/books/content?id=gA5GP...   \n",
       "2     http://books.google.com/books/content?id=FKo2T...   \n",
       "3     http://books.google.com/books/content?id=XhQ5X...   \n",
       "4     http://books.google.com/books/content?id=Kk-uV...   \n",
       "...                                                 ...   \n",
       "5192  http://books.google.com/books/content?id=q-tKP...   \n",
       "5193  http://books.google.com/books/content?id=rq6JP...   \n",
       "5194  http://books.google.com/books/content?id=c_7mf...   \n",
       "5195  http://books.google.com/books/content?id=Fv_JP...   \n",
       "5196  http://books.google.com/books/content?id=Vy7Sk...   \n",
       "\n",
       "                                            description  published_year  \\\n",
       "0     A NOVEL THAT READERS and critics have been eag...          2004.0   \n",
       "1     A new 'Christie for Christmas' -- a full-lengt...          2000.0   \n",
       "2     A memorable, mesmerizing heroine Jennifer -- b...          1993.0   \n",
       "3     Lewis' work on the nature of love divides love...          2002.0   \n",
       "4     \"In The Problem of Pain, C.S. Lewis, one of th...          2002.0   \n",
       "...                                                 ...             ...   \n",
       "5192  On A Train Journey Home To North India After L...          2003.0   \n",
       "5193  This book tells the tale of a man who goes on ...          2002.0   \n",
       "5194  Wisdom to Create a Life of Passion, Purpose, a...          2003.0   \n",
       "5195  This collection of the timeless teachings of o...          1999.0   \n",
       "5196  Since the three volume edition ofHegel's Philo...          1981.0   \n",
       "\n",
       "      average_rating  num_pages  ratings_count  \\\n",
       "0               3.85      247.0          361.0   \n",
       "1               3.83      241.0         5164.0   \n",
       "2               3.93      512.0        29532.0   \n",
       "3               4.15      170.0        33684.0   \n",
       "4               4.09      176.0        37569.0   \n",
       "...              ...        ...            ...   \n",
       "5192            2.93      324.0            0.0   \n",
       "5193            3.70      175.0           24.0   \n",
       "5194            3.82      198.0         1568.0   \n",
       "5195            4.51      531.0          104.0   \n",
       "5196            0.00      210.0            0.0   \n",
       "\n",
       "                                     title_and_subtitle  \\\n",
       "0                                                Gilead   \n",
       "1                                 Spider's Web: A Novel   \n",
       "2                                        Rage of angels   \n",
       "3                                        The Four Loves   \n",
       "4                                   The Problem of Pain   \n",
       "...                                                 ...   \n",
       "5192                                  Mistaken Identity   \n",
       "5193                                Journey to the East   \n",
       "5194  The Monk Who Sold His Ferrari: A Fable About F...   \n",
       "5195     I Am that: Talks with Sri Nisargadatta Maharaj   \n",
       "5196                           The Berlin Phenomenology   \n",
       "\n",
       "                                     tagged_description simple_categories  \n",
       "0     9780002005883 A NOVEL THAT READERS and critics...           Fiction  \n",
       "1     9780002261982 A new 'Christie for Christmas' -...               NaN  \n",
       "2     9780006178736 A memorable, mesmerizing heroine...           Fiction  \n",
       "3     9780006280897 Lewis' work on the nature of lov...               NaN  \n",
       "4     9780006280934 \"In The Problem of Pain, C.S. Le...               NaN  \n",
       "...                                                 ...               ...  \n",
       "5192  9788172235222 On A Train Journey Home To North...               NaN  \n",
       "5193  9788173031014 This book tells the tale of a ma...               NaN  \n",
       "5194  9788179921623 Wisdom to Create a Life of Passi...               NaN  \n",
       "5195  9788185300535 This collection of the timeless ...        Nonfiction  \n",
       "5196  9789027712059 Since the three volume edition o...        Nonfiction  \n",
       "\n",
       "[5197 rows x 14 columns]"
      ]
     },
     "execution_count": 9,
     "metadata": {},
     "output_type": "execute_result"
    }
   ],
   "source": [
    "books"
   ]
  },
  {
   "cell_type": "code",
   "execution_count": 10,
   "id": "9b961ebd87dd6053",
   "metadata": {
    "ExecuteTime": {
     "end_time": "2025-03-09T09:21:50.403845Z",
     "start_time": "2025-03-09T09:21:50.383195Z"
    }
   },
   "outputs": [
    {
     "data": {
      "text/html": [
       "<div>\n",
       "<style scoped>\n",
       "    .dataframe tbody tr th:only-of-type {\n",
       "        vertical-align: middle;\n",
       "    }\n",
       "\n",
       "    .dataframe tbody tr th {\n",
       "        vertical-align: top;\n",
       "    }\n",
       "\n",
       "    .dataframe thead th {\n",
       "        text-align: right;\n",
       "    }\n",
       "</style>\n",
       "<table border=\"1\" class=\"dataframe\">\n",
       "  <thead>\n",
       "    <tr style=\"text-align: right;\">\n",
       "      <th></th>\n",
       "      <th>isbn13</th>\n",
       "      <th>isbn10</th>\n",
       "      <th>title</th>\n",
       "      <th>authors</th>\n",
       "      <th>categories</th>\n",
       "      <th>thumbnail</th>\n",
       "      <th>description</th>\n",
       "      <th>published_year</th>\n",
       "      <th>average_rating</th>\n",
       "      <th>num_pages</th>\n",
       "      <th>ratings_count</th>\n",
       "      <th>title_and_subtitle</th>\n",
       "      <th>tagged_description</th>\n",
       "      <th>simple_categories</th>\n",
       "    </tr>\n",
       "  </thead>\n",
       "  <tbody>\n",
       "    <tr>\n",
       "      <th>0</th>\n",
       "      <td>9780002005883</td>\n",
       "      <td>0002005883</td>\n",
       "      <td>Gilead</td>\n",
       "      <td>Marilynne Robinson</td>\n",
       "      <td>Fiction</td>\n",
       "      <td>http://books.google.com/books/content?id=KQZCP...</td>\n",
       "      <td>A NOVEL THAT READERS and critics have been eag...</td>\n",
       "      <td>2004.0</td>\n",
       "      <td>3.85</td>\n",
       "      <td>247.0</td>\n",
       "      <td>361.0</td>\n",
       "      <td>Gilead</td>\n",
       "      <td>9780002005883 A NOVEL THAT READERS and critics...</td>\n",
       "      <td>Fiction</td>\n",
       "    </tr>\n",
       "    <tr>\n",
       "      <th>2</th>\n",
       "      <td>9780006178736</td>\n",
       "      <td>0006178731</td>\n",
       "      <td>Rage of angels</td>\n",
       "      <td>Sidney Sheldon</td>\n",
       "      <td>Fiction</td>\n",
       "      <td>http://books.google.com/books/content?id=FKo2T...</td>\n",
       "      <td>A memorable, mesmerizing heroine Jennifer -- b...</td>\n",
       "      <td>1993.0</td>\n",
       "      <td>3.93</td>\n",
       "      <td>512.0</td>\n",
       "      <td>29532.0</td>\n",
       "      <td>Rage of angels</td>\n",
       "      <td>9780006178736 A memorable, mesmerizing heroine...</td>\n",
       "      <td>Fiction</td>\n",
       "    </tr>\n",
       "    <tr>\n",
       "      <th>8</th>\n",
       "      <td>9780006482079</td>\n",
       "      <td>0006482074</td>\n",
       "      <td>Warhost of Vastmark</td>\n",
       "      <td>Janny Wurts</td>\n",
       "      <td>Fiction</td>\n",
       "      <td>http://books.google.com/books/content?id=uOL0f...</td>\n",
       "      <td>Tricked once more by his wily half-brother, Ly...</td>\n",
       "      <td>1995.0</td>\n",
       "      <td>4.03</td>\n",
       "      <td>522.0</td>\n",
       "      <td>2966.0</td>\n",
       "      <td>Warhost of Vastmark</td>\n",
       "      <td>9780006482079 Tricked once more by his wily ha...</td>\n",
       "      <td>Fiction</td>\n",
       "    </tr>\n",
       "    <tr>\n",
       "      <th>30</th>\n",
       "      <td>9780006646006</td>\n",
       "      <td>000664600X</td>\n",
       "      <td>Ocean Star Express</td>\n",
       "      <td>Mark Haddon;Peter Sutton</td>\n",
       "      <td>Juvenile Fiction</td>\n",
       "      <td>http://books.google.com/books/content?id=I2QZA...</td>\n",
       "      <td>Joe and his parents are enjoying a summer holi...</td>\n",
       "      <td>2002.0</td>\n",
       "      <td>3.50</td>\n",
       "      <td>32.0</td>\n",
       "      <td>1.0</td>\n",
       "      <td>Ocean Star Express</td>\n",
       "      <td>9780006646006 Joe and his parents are enjoying...</td>\n",
       "      <td>Children's Fiction</td>\n",
       "    </tr>\n",
       "    <tr>\n",
       "      <th>46</th>\n",
       "      <td>9780007121014</td>\n",
       "      <td>0007121016</td>\n",
       "      <td>Taken at the Flood</td>\n",
       "      <td>Agatha Christie</td>\n",
       "      <td>Fiction</td>\n",
       "      <td>http://books.google.com/books/content?id=3gWlx...</td>\n",
       "      <td>A Few Weeks After Marrying An Attractive Young...</td>\n",
       "      <td>2002.0</td>\n",
       "      <td>3.71</td>\n",
       "      <td>352.0</td>\n",
       "      <td>8852.0</td>\n",
       "      <td>Taken at the Flood</td>\n",
       "      <td>9780007121014 A Few Weeks After Marrying An At...</td>\n",
       "      <td>Fiction</td>\n",
       "    </tr>\n",
       "    <tr>\n",
       "      <th>...</th>\n",
       "      <td>...</td>\n",
       "      <td>...</td>\n",
       "      <td>...</td>\n",
       "      <td>...</td>\n",
       "      <td>...</td>\n",
       "      <td>...</td>\n",
       "      <td>...</td>\n",
       "      <td>...</td>\n",
       "      <td>...</td>\n",
       "      <td>...</td>\n",
       "      <td>...</td>\n",
       "      <td>...</td>\n",
       "      <td>...</td>\n",
       "      <td>...</td>\n",
       "    </tr>\n",
       "    <tr>\n",
       "      <th>5178</th>\n",
       "      <td>9781933648279</td>\n",
       "      <td>1933648279</td>\n",
       "      <td>Night Has a Thousand Eyes</td>\n",
       "      <td>Cornell Woolrich</td>\n",
       "      <td>Fiction</td>\n",
       "      <td>http://books.google.com/books/content?id=3Gk6s...</td>\n",
       "      <td>\"Cornell Woolrich's novels define the essence ...</td>\n",
       "      <td>2007.0</td>\n",
       "      <td>3.77</td>\n",
       "      <td>344.0</td>\n",
       "      <td>680.0</td>\n",
       "      <td>Night Has a Thousand Eyes</td>\n",
       "      <td>9781933648279 \"Cornell Woolrich's novels defin...</td>\n",
       "      <td>Fiction</td>\n",
       "    </tr>\n",
       "    <tr>\n",
       "      <th>5188</th>\n",
       "      <td>9784770028969</td>\n",
       "      <td>4770028962</td>\n",
       "      <td>Coin Locker Babies</td>\n",
       "      <td>村上龍</td>\n",
       "      <td>Fiction</td>\n",
       "      <td>http://books.google.com/books/content?id=87DJw...</td>\n",
       "      <td>Rescued from the lockers in which they were le...</td>\n",
       "      <td>2002.0</td>\n",
       "      <td>3.75</td>\n",
       "      <td>393.0</td>\n",
       "      <td>5560.0</td>\n",
       "      <td>Coin Locker Babies</td>\n",
       "      <td>9784770028969 Rescued from the lockers in whic...</td>\n",
       "      <td>Fiction</td>\n",
       "    </tr>\n",
       "    <tr>\n",
       "      <th>5189</th>\n",
       "      <td>9788122200850</td>\n",
       "      <td>8122200850</td>\n",
       "      <td>Cry, the Peacock</td>\n",
       "      <td>Anita Desai</td>\n",
       "      <td>Fiction</td>\n",
       "      <td>http://books.google.com/books/content?id=_QKwV...</td>\n",
       "      <td>This book is the story of a young girl obsesse...</td>\n",
       "      <td>1980.0</td>\n",
       "      <td>3.22</td>\n",
       "      <td>218.0</td>\n",
       "      <td>134.0</td>\n",
       "      <td>Cry, the Peacock</td>\n",
       "      <td>9788122200850 This book is the story of a youn...</td>\n",
       "      <td>Fiction</td>\n",
       "    </tr>\n",
       "    <tr>\n",
       "      <th>5195</th>\n",
       "      <td>9788185300535</td>\n",
       "      <td>8185300534</td>\n",
       "      <td>I Am that</td>\n",
       "      <td>Sri Nisargadatta Maharaj;Sudhakar S. Dikshit</td>\n",
       "      <td>Philosophy</td>\n",
       "      <td>http://books.google.com/books/content?id=Fv_JP...</td>\n",
       "      <td>This collection of the timeless teachings of o...</td>\n",
       "      <td>1999.0</td>\n",
       "      <td>4.51</td>\n",
       "      <td>531.0</td>\n",
       "      <td>104.0</td>\n",
       "      <td>I Am that: Talks with Sri Nisargadatta Maharaj</td>\n",
       "      <td>9788185300535 This collection of the timeless ...</td>\n",
       "      <td>Nonfiction</td>\n",
       "    </tr>\n",
       "    <tr>\n",
       "      <th>5196</th>\n",
       "      <td>9789027712059</td>\n",
       "      <td>9027712050</td>\n",
       "      <td>The Berlin Phenomenology</td>\n",
       "      <td>Georg Wilhelm Friedrich Hegel</td>\n",
       "      <td>History</td>\n",
       "      <td>http://books.google.com/books/content?id=Vy7Sk...</td>\n",
       "      <td>Since the three volume edition ofHegel's Philo...</td>\n",
       "      <td>1981.0</td>\n",
       "      <td>0.00</td>\n",
       "      <td>210.0</td>\n",
       "      <td>0.0</td>\n",
       "      <td>The Berlin Phenomenology</td>\n",
       "      <td>9789027712059 Since the three volume edition o...</td>\n",
       "      <td>Nonfiction</td>\n",
       "    </tr>\n",
       "  </tbody>\n",
       "</table>\n",
       "<p>3743 rows × 14 columns</p>\n",
       "</div>"
      ],
      "text/plain": [
       "             isbn13      isbn10                      title  \\\n",
       "0     9780002005883  0002005883                     Gilead   \n",
       "2     9780006178736  0006178731             Rage of angels   \n",
       "8     9780006482079  0006482074        Warhost of Vastmark   \n",
       "30    9780006646006  000664600X         Ocean Star Express   \n",
       "46    9780007121014  0007121016         Taken at the Flood   \n",
       "...             ...         ...                        ...   \n",
       "5178  9781933648279  1933648279  Night Has a Thousand Eyes   \n",
       "5188  9784770028969  4770028962         Coin Locker Babies   \n",
       "5189  9788122200850  8122200850           Cry, the Peacock   \n",
       "5195  9788185300535  8185300534                  I Am that   \n",
       "5196  9789027712059  9027712050   The Berlin Phenomenology   \n",
       "\n",
       "                                           authors        categories  \\\n",
       "0                               Marilynne Robinson           Fiction   \n",
       "2                                   Sidney Sheldon           Fiction   \n",
       "8                                      Janny Wurts           Fiction   \n",
       "30                        Mark Haddon;Peter Sutton  Juvenile Fiction   \n",
       "46                                 Agatha Christie           Fiction   \n",
       "...                                            ...               ...   \n",
       "5178                              Cornell Woolrich           Fiction   \n",
       "5188                                           村上龍           Fiction   \n",
       "5189                                   Anita Desai           Fiction   \n",
       "5195  Sri Nisargadatta Maharaj;Sudhakar S. Dikshit        Philosophy   \n",
       "5196                 Georg Wilhelm Friedrich Hegel           History   \n",
       "\n",
       "                                              thumbnail  \\\n",
       "0     http://books.google.com/books/content?id=KQZCP...   \n",
       "2     http://books.google.com/books/content?id=FKo2T...   \n",
       "8     http://books.google.com/books/content?id=uOL0f...   \n",
       "30    http://books.google.com/books/content?id=I2QZA...   \n",
       "46    http://books.google.com/books/content?id=3gWlx...   \n",
       "...                                                 ...   \n",
       "5178  http://books.google.com/books/content?id=3Gk6s...   \n",
       "5188  http://books.google.com/books/content?id=87DJw...   \n",
       "5189  http://books.google.com/books/content?id=_QKwV...   \n",
       "5195  http://books.google.com/books/content?id=Fv_JP...   \n",
       "5196  http://books.google.com/books/content?id=Vy7Sk...   \n",
       "\n",
       "                                            description  published_year  \\\n",
       "0     A NOVEL THAT READERS and critics have been eag...          2004.0   \n",
       "2     A memorable, mesmerizing heroine Jennifer -- b...          1993.0   \n",
       "8     Tricked once more by his wily half-brother, Ly...          1995.0   \n",
       "30    Joe and his parents are enjoying a summer holi...          2002.0   \n",
       "46    A Few Weeks After Marrying An Attractive Young...          2002.0   \n",
       "...                                                 ...             ...   \n",
       "5178  \"Cornell Woolrich's novels define the essence ...          2007.0   \n",
       "5188  Rescued from the lockers in which they were le...          2002.0   \n",
       "5189  This book is the story of a young girl obsesse...          1980.0   \n",
       "5195  This collection of the timeless teachings of o...          1999.0   \n",
       "5196  Since the three volume edition ofHegel's Philo...          1981.0   \n",
       "\n",
       "      average_rating  num_pages  ratings_count  \\\n",
       "0               3.85      247.0          361.0   \n",
       "2               3.93      512.0        29532.0   \n",
       "8               4.03      522.0         2966.0   \n",
       "30              3.50       32.0            1.0   \n",
       "46              3.71      352.0         8852.0   \n",
       "...              ...        ...            ...   \n",
       "5178            3.77      344.0          680.0   \n",
       "5188            3.75      393.0         5560.0   \n",
       "5189            3.22      218.0          134.0   \n",
       "5195            4.51      531.0          104.0   \n",
       "5196            0.00      210.0            0.0   \n",
       "\n",
       "                                  title_and_subtitle  \\\n",
       "0                                             Gilead   \n",
       "2                                     Rage of angels   \n",
       "8                                Warhost of Vastmark   \n",
       "30                                Ocean Star Express   \n",
       "46                                Taken at the Flood   \n",
       "...                                              ...   \n",
       "5178                       Night Has a Thousand Eyes   \n",
       "5188                              Coin Locker Babies   \n",
       "5189                                Cry, the Peacock   \n",
       "5195  I Am that: Talks with Sri Nisargadatta Maharaj   \n",
       "5196                        The Berlin Phenomenology   \n",
       "\n",
       "                                     tagged_description   simple_categories  \n",
       "0     9780002005883 A NOVEL THAT READERS and critics...             Fiction  \n",
       "2     9780006178736 A memorable, mesmerizing heroine...             Fiction  \n",
       "8     9780006482079 Tricked once more by his wily ha...             Fiction  \n",
       "30    9780006646006 Joe and his parents are enjoying...  Children's Fiction  \n",
       "46    9780007121014 A Few Weeks After Marrying An At...             Fiction  \n",
       "...                                                 ...                 ...  \n",
       "5178  9781933648279 \"Cornell Woolrich's novels defin...             Fiction  \n",
       "5188  9784770028969 Rescued from the lockers in whic...             Fiction  \n",
       "5189  9788122200850 This book is the story of a youn...             Fiction  \n",
       "5195  9788185300535 This collection of the timeless ...          Nonfiction  \n",
       "5196  9789027712059 Since the three volume edition o...          Nonfiction  \n",
       "\n",
       "[3743 rows x 14 columns]"
      ]
     },
     "execution_count": 10,
     "metadata": {},
     "output_type": "execute_result"
    }
   ],
   "source": [
    "books[~(books[\"simple_categories\"].isna())]"
   ]
  },
  {
   "cell_type": "code",
   "execution_count": 33,
   "id": "7803e3f10206903b",
   "metadata": {
    "ExecuteTime": {
     "end_time": "2025-03-09T09:47:30.734747Z",
     "start_time": "2025-03-09T09:37:44.871417Z"
    }
   },
   "outputs": [
    {
     "name": "stderr",
     "output_type": "stream",
     "text": [
      "Device set to use cpu\n"
     ]
    }
   ],
   "source": [
    "import torch\n",
    "from transformers import pipeline\n",
    "\n",
    "fiction_categories = [\"Fiction\", \"Nonfiction\"]\n",
    "\n",
    "# force to use GPU\n",
    "pipe = pipeline(\"zero-shot-classification\",\n",
    "                model=\"facebook/bart-large-mnli\",\n",
    "                device='cuda:0' if torch.cuda.is_available() else 'cpu')"
   ]
  },
  {
   "cell_type": "code",
   "execution_count": 34,
   "id": "cbfc2cd1f94fbcdc",
   "metadata": {
    "ExecuteTime": {
     "end_time": "2025-03-09T10:01:27.137791Z",
     "start_time": "2025-03-09T10:01:26.674812Z"
    }
   },
   "outputs": [],
   "source": [
    "sequence = books.loc[books[\"simple_categories\"] == \"Fiction\", \"description\"].reset_index(drop=True)[0]"
   ]
  },
  {
   "cell_type": "code",
   "execution_count": 35,
   "id": "7352d3f8f5f24069",
   "metadata": {
    "ExecuteTime": {
     "end_time": "2025-03-09T10:02:45.379690Z",
     "start_time": "2025-03-09T10:02:30.929440Z"
    }
   },
   "outputs": [
    {
     "data": {
      "text/plain": [
       "{'sequence': 'A NOVEL THAT READERS and critics have been eagerly anticipating for over a decade, Gilead is an astonishingly imagined story of remarkable lives. John Ames is a preacher, the son of a preacher and the grandson (both maternal and paternal) of preachers. It’s 1956 in Gilead, Iowa, towards the end of the Reverend Ames’s life, and he is absorbed in recording his family’s story, a legacy for the young son he will never see grow up. Haunted by his grandfather’s presence, John tells of the rift between his grandfather and his father: the elder, an angry visionary who fought for the abolitionist cause, and his son, an ardent pacifist. He is troubled, too, by his prodigal namesake, Jack (John Ames) Boughton, his best friend’s lost son who returns to Gilead searching for forgiveness and redemption. Told in John Ames’s joyous, rambling voice that finds beauty, humour and truth in the smallest of life’s details, Gilead is a song of celebration and acceptance of the best and the worst the world has to offer. At its heart is a tale of the sacred bonds between fathers and sons, pitch-perfect in style and story, set to dazzle critics and readers alike.',\n",
       " 'labels': ['Fiction', 'Nonfiction'],\n",
       " 'scores': [0.8438262939453125, 0.1561737358570099]}"
      ]
     },
     "execution_count": 35,
     "metadata": {},
     "output_type": "execute_result"
    }
   ],
   "source": [
    "pipe(sequence, fiction_categories)"
   ]
  },
  {
   "cell_type": "code",
   "execution_count": 36,
   "id": "42e176f958623655",
   "metadata": {
    "ExecuteTime": {
     "end_time": "2025-03-09T10:04:40.979056Z",
     "start_time": "2025-03-09T10:04:31.920417Z"
    }
   },
   "outputs": [
    {
     "data": {
      "text/plain": [
       "'Fiction'"
      ]
     },
     "execution_count": 36,
     "metadata": {},
     "output_type": "execute_result"
    }
   ],
   "source": [
    "import numpy as np\n",
    "\n",
    "max_index = np.argmax(pipe(sequence, fiction_categories)[\"scores\"])\n",
    "max_label = pipe(sequence, fiction_categories)[\"labels\"][max_index]\n",
    "max_label"
   ]
  },
  {
   "cell_type": "code",
   "execution_count": 37,
   "id": "aae69379d3060151",
   "metadata": {
    "ExecuteTime": {
     "end_time": "2025-03-09T10:05:13.318810Z",
     "start_time": "2025-03-09T10:05:13.307724Z"
    }
   },
   "outputs": [],
   "source": [
    "def generate_predictions(sequence, categories):\n",
    "    predictions = pipe(sequence, categories)\n",
    "    max_index = np.argmax(predictions[\"scores\"])\n",
    "    max_label = predictions[\"labels\"][max_index]\n",
    "    return max_label"
   ]
  },
  {
   "cell_type": "code",
   "execution_count": 38,
   "id": "f26d272d1ffb259e",
   "metadata": {
    "ExecuteTime": {
     "end_time": "2025-03-09T10:47:32.613896Z",
     "start_time": "2025-03-09T10:38:35.947763Z"
    }
   },
   "outputs": [
    {
     "name": "stderr",
     "output_type": "stream",
     "text": [
      "100%|██████████| 300/300 [01:58<00:00,  2.53it/s]\n"
     ]
    }
   ],
   "source": [
    "from tqdm import tqdm\n",
    "\n",
    "actual_cats = []\n",
    "predicted_cats = []\n",
    "\n",
    "for i in tqdm(range(0, 300)):\n",
    "    sequence = books.loc[books[\"simple_categories\"] == \"Fiction\", \"description\"].reset_index(drop=True)[i]\n",
    "    predicted_cats += [generate_predictions(sequence, fiction_categories)]\n",
    "    actual_cats += [\"Fiction\"]"
   ]
  },
  {
   "cell_type": "code",
   "execution_count": 39,
   "id": "bc93148a76830a78",
   "metadata": {
    "ExecuteTime": {
     "end_time": "2025-03-09T10:58:22.926756Z",
     "start_time": "2025-03-09T10:47:50.960885Z"
    }
   },
   "outputs": [
    {
     "name": "stderr",
     "output_type": "stream",
     "text": [
      "100%|██████████| 300/300 [02:05<00:00,  2.38it/s]\n"
     ]
    }
   ],
   "source": [
    "for i in tqdm(range(0, 300)):\n",
    "    sequence = books.loc[books[\"simple_categories\"] == \"Nonfiction\", \"description\"].reset_index(drop=True)[i]\n",
    "    predicted_cats += [generate_predictions(sequence, fiction_categories)]\n",
    "    actual_cats += [\"Nonfiction\"]"
   ]
  },
  {
   "cell_type": "code",
   "execution_count": 40,
   "id": "46fff5cbb4602a0b",
   "metadata": {
    "ExecuteTime": {
     "end_time": "2025-03-09T10:59:57.758822Z",
     "start_time": "2025-03-09T10:59:57.683588Z"
    }
   },
   "outputs": [],
   "source": [
    "predictions_df = pd.DataFrame({\"actual_categories\": actual_cats, \"predicted_categories\": predicted_cats})"
   ]
  },
  {
   "cell_type": "code",
   "execution_count": 41,
   "id": "1ef261eb11ff37b7",
   "metadata": {
    "ExecuteTime": {
     "end_time": "2025-03-09T11:00:17.116884Z",
     "start_time": "2025-03-09T11:00:17.065532Z"
    }
   },
   "outputs": [
    {
     "data": {
      "text/html": [
       "<div>\n",
       "<style scoped>\n",
       "    .dataframe tbody tr th:only-of-type {\n",
       "        vertical-align: middle;\n",
       "    }\n",
       "\n",
       "    .dataframe tbody tr th {\n",
       "        vertical-align: top;\n",
       "    }\n",
       "\n",
       "    .dataframe thead th {\n",
       "        text-align: right;\n",
       "    }\n",
       "</style>\n",
       "<table border=\"1\" class=\"dataframe\">\n",
       "  <thead>\n",
       "    <tr style=\"text-align: right;\">\n",
       "      <th></th>\n",
       "      <th>actual_categories</th>\n",
       "      <th>predicted_categories</th>\n",
       "    </tr>\n",
       "  </thead>\n",
       "  <tbody>\n",
       "    <tr>\n",
       "      <th>0</th>\n",
       "      <td>Fiction</td>\n",
       "      <td>Fiction</td>\n",
       "    </tr>\n",
       "    <tr>\n",
       "      <th>1</th>\n",
       "      <td>Fiction</td>\n",
       "      <td>Fiction</td>\n",
       "    </tr>\n",
       "    <tr>\n",
       "      <th>2</th>\n",
       "      <td>Fiction</td>\n",
       "      <td>Fiction</td>\n",
       "    </tr>\n",
       "    <tr>\n",
       "      <th>3</th>\n",
       "      <td>Fiction</td>\n",
       "      <td>Nonfiction</td>\n",
       "    </tr>\n",
       "    <tr>\n",
       "      <th>4</th>\n",
       "      <td>Fiction</td>\n",
       "      <td>Fiction</td>\n",
       "    </tr>\n",
       "    <tr>\n",
       "      <th>...</th>\n",
       "      <td>...</td>\n",
       "      <td>...</td>\n",
       "    </tr>\n",
       "    <tr>\n",
       "      <th>595</th>\n",
       "      <td>Nonfiction</td>\n",
       "      <td>Nonfiction</td>\n",
       "    </tr>\n",
       "    <tr>\n",
       "      <th>596</th>\n",
       "      <td>Nonfiction</td>\n",
       "      <td>Fiction</td>\n",
       "    </tr>\n",
       "    <tr>\n",
       "      <th>597</th>\n",
       "      <td>Nonfiction</td>\n",
       "      <td>Nonfiction</td>\n",
       "    </tr>\n",
       "    <tr>\n",
       "      <th>598</th>\n",
       "      <td>Nonfiction</td>\n",
       "      <td>Nonfiction</td>\n",
       "    </tr>\n",
       "    <tr>\n",
       "      <th>599</th>\n",
       "      <td>Nonfiction</td>\n",
       "      <td>Fiction</td>\n",
       "    </tr>\n",
       "  </tbody>\n",
       "</table>\n",
       "<p>600 rows × 2 columns</p>\n",
       "</div>"
      ],
      "text/plain": [
       "    actual_categories predicted_categories\n",
       "0             Fiction              Fiction\n",
       "1             Fiction              Fiction\n",
       "2             Fiction              Fiction\n",
       "3             Fiction           Nonfiction\n",
       "4             Fiction              Fiction\n",
       "..                ...                  ...\n",
       "595        Nonfiction           Nonfiction\n",
       "596        Nonfiction              Fiction\n",
       "597        Nonfiction           Nonfiction\n",
       "598        Nonfiction           Nonfiction\n",
       "599        Nonfiction              Fiction\n",
       "\n",
       "[600 rows x 2 columns]"
      ]
     },
     "execution_count": 41,
     "metadata": {},
     "output_type": "execute_result"
    }
   ],
   "source": [
    "predictions_df"
   ]
  },
  {
   "cell_type": "code",
   "execution_count": 42,
   "id": "5ef1a945f7e4f739",
   "metadata": {
    "ExecuteTime": {
     "end_time": "2025-03-09T11:02:02.754422Z",
     "start_time": "2025-03-09T11:02:02.621539Z"
    }
   },
   "outputs": [],
   "source": [
    "predictions_df[\"correct_prediction\"] = (\n",
    "    np.where(predictions_df[\"actual_categories\"] == predictions_df[\"predicted_categories\"], 1, 0)\n",
    ")"
   ]
  },
  {
   "cell_type": "code",
   "execution_count": 43,
   "id": "740bb5fc6c1bce2f",
   "metadata": {
    "ExecuteTime": {
     "end_time": "2025-03-09T11:02:10.335270Z",
     "start_time": "2025-03-09T11:02:10.221055Z"
    }
   },
   "outputs": [
    {
     "data": {
      "text/plain": [
       "np.float64(0.7783333333333333)"
      ]
     },
     "execution_count": 43,
     "metadata": {},
     "output_type": "execute_result"
    }
   ],
   "source": [
    "predictions_df[\"correct_prediction\"].sum() / len(predictions_df)"
   ]
  },
  {
   "cell_type": "code",
   "execution_count": null,
   "id": "648129774ae126ed",
   "metadata": {
    "ExecuteTime": {
     "end_time": "2025-03-09T11:12:53.308536Z",
     "start_time": "2025-03-09T11:12:52.891675Z"
    }
   },
   "outputs": [],
   "source": [
    "isbns = []\n",
    "predicted_cats = []\n",
    "# Find books with missing simple_categories\n",
    "missing_cats = books.loc[books[\"simple_categories\"].isna(), [\"isbn13\", \"description\"]].reset_index(drop=True)"
   ]
  },
  {
   "cell_type": "code",
   "execution_count": 45,
   "id": "a1f03ea2206b97af",
   "metadata": {
    "ExecuteTime": {
     "end_time": "2025-03-09T11:51:35.467100Z",
     "start_time": "2025-03-09T11:13:06.970969Z"
    }
   },
   "outputs": [
    {
     "name": "stderr",
     "output_type": "stream",
     "text": [
      "100%|██████████| 1454/1454 [09:07<00:00,  2.65it/s]\n"
     ]
    }
   ],
   "source": [
    "for i in tqdm(range(0, len(missing_cats))):\n",
    "    sequence = missing_cats[\"description\"][i]\n",
    "    predicted_cats += [generate_predictions(sequence, fiction_categories)]\n",
    "    isbns += [missing_cats[\"isbn13\"][i]]"
   ]
  },
  {
   "cell_type": "code",
   "execution_count": null,
   "id": "c54dd8a0d4981c7b",
   "metadata": {
    "ExecuteTime": {
     "end_time": "2025-03-09T11:55:10.771264Z",
     "start_time": "2025-03-09T11:55:10.589792Z"
    }
   },
   "outputs": [],
   "source": [
    "missing_predicted_df = pd.DataFrame({\"isbn13\": isbns, \"predicted_categories\": predicted_cats})"
   ]
  },
  {
   "cell_type": "code",
   "execution_count": null,
   "id": "efee3cf816c20d02",
   "metadata": {
    "ExecuteTime": {
     "end_time": "2025-03-09T11:55:30.210713Z",
     "start_time": "2025-03-09T11:55:30.163315Z"
    }
   },
   "outputs": [],
   "source": [
    "missing_predicted_df"
   ]
  },
  {
   "cell_type": "code",
   "execution_count": null,
   "id": "25cc79453ad56215",
   "metadata": {
    "ExecuteTime": {
     "end_time": "2025-03-09T11:56:19.897378Z",
     "start_time": "2025-03-09T11:56:19.551615Z"
    }
   },
   "outputs": [],
   "source": [
    "books = pd.merge(books, missing_predicted_df, on=\"isbn13\", how=\"left\")\n",
    "books[\"simple_categories\"] = np.where(books[\"simple_categories\"].isna(), books[\"predicted_categories\"], books[\"simple_categories\"])\n",
    "books = books.drop(columns = [\"predicted_categories\"])"
   ]
  },
  {
   "cell_type": "code",
   "execution_count": null,
   "id": "8a3fa6ec751f435b",
   "metadata": {
    "ExecuteTime": {
     "end_time": "2025-03-09T11:56:30.427354Z",
     "start_time": "2025-03-09T11:56:30.403622Z"
    }
   },
   "outputs": [],
   "source": [
    "books"
   ]
  },
  {
   "cell_type": "code",
   "execution_count": null,
   "id": "8988d267ddcd823",
   "metadata": {
    "ExecuteTime": {
     "end_time": "2025-03-09T12:01:08.944779Z",
     "start_time": "2025-03-09T12:01:08.870051Z"
    }
   },
   "outputs": [],
   "source": [
    "books[books[\"categories\"].str.lower().isin([\n",
    "    \"romance\",\n",
    "    \"science fiction\",\n",
    "    \"scifi\",\n",
    "    \"fantasy\",\n",
    "    \"horror\",\n",
    "    \"mystery\",\n",
    "    \"thriller\",\n",
    "    \"comedy\",\n",
    "    \"crime\",\n",
    "    \"historical\"\n",
    "])]"
   ]
  },
  {
   "cell_type": "code",
   "execution_count": null,
   "id": "a770ea9018056a17",
   "metadata": {
    "ExecuteTime": {
     "end_time": "2025-03-09T12:06:04.093699Z",
     "start_time": "2025-03-09T12:06:03.474448Z"
    }
   },
   "outputs": [],
   "source": [
    "books.to_csv(\"books_with_categories.csv\", index=False)"
   ]
  }
 ],
 "metadata": {
  "kernelspec": {
   "display_name": "Python 3",
   "language": "python",
   "name": "python3"
  },
  "language_info": {
   "codemirror_mode": {
    "name": "ipython",
    "version": 3
   },
   "file_extension": ".py",
   "mimetype": "text/x-python",
   "name": "python",
   "nbconvert_exporter": "python",
   "pygments_lexer": "ipython3",
   "version": "3.13.3"
  }
 },
 "nbformat": 4,
 "nbformat_minor": 5
}
