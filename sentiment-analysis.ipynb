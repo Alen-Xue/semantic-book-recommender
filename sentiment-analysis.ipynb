{
 "cells": [
  {
   "cell_type": "code",
   "execution_count": null,
   "id": "initial_id",
   "metadata": {
    "ExecuteTime": {
     "end_time": "2025-03-09T12:31:36.424768Z",
     "start_time": "2025-03-09T12:31:35.864008Z"
    },
    "collapsed": true
   },
   "outputs": [],
   "source": [
    "import pandas as pd\n",
    "\n",
    "books = pd.read_csv(\"books_with_categories.csv\")"
   ]
  },
  {
   "cell_type": "code",
   "execution_count": null,
   "id": "5cfe7edcc2336a52",
   "metadata": {
    "ExecuteTime": {
     "end_time": "2025-03-09T12:38:30.971232Z",
     "start_time": "2025-03-09T12:35:57.320257Z"
    }
   },
   "outputs": [],
   "source": [
    "from transformers import pipeline\n",
    "classifier = pipeline(\"text-classification\",\n",
    "                      model=\"j-hartmann/emotion-english-distilroberta-base\",\n",
    "                      top_k = None,\n",
    "                      device = -1)\n",
    "classifier(\"I love this!\")\n"
   ]
  },
  {
   "cell_type": "code",
   "execution_count": null,
   "id": "f60cfcaa7fb8250c",
   "metadata": {
    "ExecuteTime": {
     "end_time": "2025-03-09T12:40:57.997072Z",
     "start_time": "2025-03-09T12:40:57.978486Z"
    }
   },
   "outputs": [],
   "source": [
    "books[\"description\"][0]"
   ]
  },
  {
   "cell_type": "code",
   "execution_count": null,
   "id": "a9d04be27913869f",
   "metadata": {
    "ExecuteTime": {
     "end_time": "2025-03-09T12:42:49.493261Z",
     "start_time": "2025-03-09T12:42:48.313633Z"
    }
   },
   "outputs": [],
   "source": [
    "classifier(books[\"description\"][0])"
   ]
  },
  {
   "cell_type": "code",
   "execution_count": null,
   "id": "6597f8c3ebe1a4b3",
   "metadata": {
    "ExecuteTime": {
     "end_time": "2025-03-09T12:43:37.090211Z",
     "start_time": "2025-03-09T12:43:35.970995Z"
    }
   },
   "outputs": [],
   "source": [
    "classifier(books[\"description\"][0].split(\".\"))"
   ]
  },
  {
   "cell_type": "code",
   "execution_count": null,
   "id": "abfa5b2f3cc191d",
   "metadata": {
    "ExecuteTime": {
     "end_time": "2025-03-09T12:45:05.272187Z",
     "start_time": "2025-03-09T12:45:04.983559Z"
    }
   },
   "outputs": [],
   "source": [
    "sentences = books[\"description\"][0].split(\".\")\n",
    "predictions = classifier(sentences)"
   ]
  },
  {
   "cell_type": "code",
   "execution_count": null,
   "id": "1dabf09be896565",
   "metadata": {
    "ExecuteTime": {
     "end_time": "2025-03-09T12:45:10.478628Z",
     "start_time": "2025-03-09T12:45:10.472084Z"
    }
   },
   "outputs": [],
   "source": [
    "sentences[0]"
   ]
  },
  {
   "cell_type": "code",
   "execution_count": null,
   "id": "330aa990dd63ab59",
   "metadata": {
    "ExecuteTime": {
     "end_time": "2025-03-09T12:45:16.315561Z",
     "start_time": "2025-03-09T12:45:16.308609Z"
    }
   },
   "outputs": [],
   "source": [
    "predictions[0]"
   ]
  },
  {
   "cell_type": "code",
   "execution_count": null,
   "id": "ee17ccc8898f504",
   "metadata": {
    "ExecuteTime": {
     "end_time": "2025-03-09T12:45:39.441253Z",
     "start_time": "2025-03-09T12:45:39.436081Z"
    }
   },
   "outputs": [],
   "source": [
    "sentences[3]"
   ]
  },
  {
   "cell_type": "code",
   "execution_count": null,
   "id": "79c9c8a80c61e9cc",
   "metadata": {
    "ExecuteTime": {
     "end_time": "2025-03-09T12:45:45.107052Z",
     "start_time": "2025-03-09T12:45:45.082239Z"
    }
   },
   "outputs": [],
   "source": [
    "predictions[3]"
   ]
  },
  {
   "cell_type": "code",
   "execution_count": null,
   "id": "880c352334121d05",
   "metadata": {
    "ExecuteTime": {
     "end_time": "2025-03-09T12:50:11.123368Z",
     "start_time": "2025-03-09T12:50:11.108066Z"
    }
   },
   "outputs": [],
   "source": [
    "predictions"
   ]
  },
  {
   "cell_type": "code",
   "execution_count": null,
   "id": "4a62f498f7c25077",
   "metadata": {
    "ExecuteTime": {
     "end_time": "2025-03-09T12:50:21.637517Z",
     "start_time": "2025-03-09T12:50:21.624479Z"
    }
   },
   "outputs": [],
   "source": [
    "sorted(predictions[0], key=lambda x: x[\"label\"])"
   ]
  },
  {
   "cell_type": "code",
   "execution_count": null,
   "id": "91e5f88f4a7ec13d",
   "metadata": {
    "ExecuteTime": {
     "end_time": "2025-03-09T13:01:10.309723Z",
     "start_time": "2025-03-09T13:01:10.241107Z"
    }
   },
   "outputs": [],
   "source": [
    "import numpy as np\n",
    "\n",
    "emotion_labels = [\"anger\", \"disgust\", \"fear\", \"joy\", \"sadness\", \"surprise\", \"neutral\"]\n",
    "isbn = []\n",
    "emotion_scores = {label: [] for label in emotion_labels}\n",
    "\n",
    "def calculate_max_emotion_scores(predictions):\n",
    "    per_emotion_scores = {label: [] for label in emotion_labels}\n",
    "    for prediction in predictions:\n",
    "        sorted_predictions = sorted(prediction, key=lambda x: x[\"label\"])\n",
    "        for index, label in enumerate(emotion_labels):\n",
    "            per_emotion_scores[label].append(sorted_predictions[index][\"score\"])\n",
    "    return {label: np.max(scores) for label, scores in per_emotion_scores.items()}"
   ]
  },
  {
   "cell_type": "code",
   "execution_count": null,
   "id": "f923c9b23d432eb7",
   "metadata": {
    "ExecuteTime": {
     "end_time": "2025-03-09T13:02:01.700346Z",
     "start_time": "2025-03-09T13:01:56.439953Z"
    }
   },
   "outputs": [],
   "source": [
    "for i in range(10):\n",
    "    isbn.append(books[\"isbn13\"][i])\n",
    "    sentences = books[\"description\"][i].split(\".\")\n",
    "    predictions = classifier(sentences)\n",
    "    max_scores = calculate_max_emotion_scores(predictions)\n",
    "    for label in emotion_labels:\n",
    "        emotion_scores[label].append(max_scores[label])"
   ]
  },
  {
   "cell_type": "code",
   "execution_count": null,
   "id": "f61b18994797a605",
   "metadata": {
    "ExecuteTime": {
     "end_time": "2025-03-09T13:02:16.013320Z",
     "start_time": "2025-03-09T13:02:16.002485Z"
    }
   },
   "outputs": [],
   "source": [
    "emotion_scores"
   ]
  },
  {
   "cell_type": "code",
   "execution_count": null,
   "id": "eceaa167b38b0b30",
   "metadata": {
    "ExecuteTime": {
     "end_time": "2025-03-09T13:19:56.868023Z",
     "start_time": "2025-03-09T13:07:44.149590Z"
    }
   },
   "outputs": [],
   "source": [
    "from tqdm import tqdm\n",
    "\n",
    "emotion_labels = [\"anger\", \"disgust\", \"fear\", \"joy\", \"sadness\", \"surprise\", \"neutral\"]\n",
    "isbn = []\n",
    "emotion_scores = {label: [] for label in emotion_labels}\n",
    "\n",
    "for i in tqdm(range(len(books))):\n",
    "    isbn.append(books[\"isbn13\"][i])\n",
    "    sentences = books[\"description\"][i].split(\".\")\n",
    "    predictions = classifier(sentences)\n",
    "    max_scores = calculate_max_emotion_scores(predictions)\n",
    "    for label in emotion_labels:\n",
    "        emotion_scores[label].append(max_scores[label])"
   ]
  },
  {
   "cell_type": "code",
   "execution_count": null,
   "id": "4cd1543c686b9d32",
   "metadata": {
    "ExecuteTime": {
     "end_time": "2025-03-09T13:21:30.904040Z",
     "start_time": "2025-03-09T13:21:30.680991Z"
    }
   },
   "outputs": [],
   "source": [
    "emotions_df = pd.DataFrame(emotion_scores)\n",
    "emotions_df[\"isbn13\"] = isbn"
   ]
  },
  {
   "cell_type": "code",
   "execution_count": null,
   "id": "d0853039b637f2af",
   "metadata": {
    "ExecuteTime": {
     "end_time": "2025-03-09T13:21:38.857561Z",
     "start_time": "2025-03-09T13:21:38.591278Z"
    }
   },
   "outputs": [],
   "source": [
    "emotions_df"
   ]
  },
  {
   "cell_type": "code",
   "execution_count": null,
   "id": "c47455f4f3897c9b",
   "metadata": {
    "ExecuteTime": {
     "end_time": "2025-03-09T13:21:55.951302Z",
     "start_time": "2025-03-09T13:21:55.785992Z"
    }
   },
   "outputs": [],
   "source": [
    "books = pd.merge(books, emotions_df, on = \"isbn13\")"
   ]
  },
  {
   "cell_type": "code",
   "execution_count": null,
   "id": "1e9ed12c60814bf0",
   "metadata": {
    "ExecuteTime": {
     "end_time": "2025-03-09T13:22:03.392044Z",
     "start_time": "2025-03-09T13:22:03.343922Z"
    }
   },
   "outputs": [],
   "source": [
    "books"
   ]
  },
  {
   "cell_type": "code",
   "execution_count": null,
   "id": "e21b0fffc2a89437",
   "metadata": {
    "ExecuteTime": {
     "end_time": "2025-03-09T13:23:06.023951Z",
     "start_time": "2025-03-09T13:23:04.606303Z"
    }
   },
   "outputs": [],
   "source": [
    "books.to_csv(\"books_with_emotions.csv\", index = False)"
   ]
  }
 ],
 "metadata": {
  "kernelspec": {
   "display_name": "Python 3",
   "language": "python",
   "name": "python3"
  },
  "language_info": {
   "codemirror_mode": {
    "name": "ipython",
    "version": 2
   },
   "file_extension": ".py",
   "mimetype": "text/x-python",
   "name": "python",
   "nbconvert_exporter": "python",
   "pygments_lexer": "ipython2",
   "version": "2.7.6"
  }
 },
 "nbformat": 4,
 "nbformat_minor": 5
}
